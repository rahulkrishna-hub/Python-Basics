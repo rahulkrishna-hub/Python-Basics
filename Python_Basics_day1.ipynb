{
  "nbformat": 4,
  "nbformat_minor": 0,
  "metadata": {
    "colab": {
      "provenance": [],
      "authorship_tag": "ABX9TyNpsPdc5XVtHJR/tc021dZU",
      "include_colab_link": true
    },
    "kernelspec": {
      "name": "python3",
      "display_name": "Python 3"
    },
    "language_info": {
      "name": "python"
    }
  },
  "cells": [
    {
      "cell_type": "markdown",
      "metadata": {
        "id": "view-in-github",
        "colab_type": "text"
      },
      "source": [
        "<a href=\"https://colab.research.google.com/github/rahulkrishna-hub/Python-Basics/blob/main/Python_Basics_day1.ipynb\" target=\"_parent\"><img src=\"https://colab.research.google.com/assets/colab-badge.svg\" alt=\"Open In Colab\"/></a>"
      ]
    },
    {
      "cell_type": "code",
      "execution_count": 2,
      "metadata": {
        "colab": {
          "base_uri": "https://localhost:8080/"
        },
        "id": "hVmuRftOD6CK",
        "outputId": "430a1cb1-32dc-49ce-9411-30bc9f4b81e5"
      },
      "outputs": [
        {
          "output_type": "stream",
          "name": "stdout",
          "text": [
            "Enter Your name:RAHUL KRISHNA C\n",
            "Enter your Age18\n",
            "hello RAHUL KRISHNA C! You are 18 years old.\n",
            "Enter first number: 5\n",
            "Enter Second number: 5\n",
            "Sum 10.0\n"
          ]
        }
      ],
      "source": [
        "name = input(\"Enter Your name:\")\n",
        "age = input(\"Enter your Age\")\n",
        "print(\"hello\", name+\"! You are \" + age + \" years old.\")\n",
        "\n",
        "#Simple Calculator\n",
        "a = float(input(\"Enter first number: \"))\n",
        "b = float(input(\"Enter Second number: \"))\n",
        "print(\"Sum\",a+b)"
      ]
    }
  ]
}